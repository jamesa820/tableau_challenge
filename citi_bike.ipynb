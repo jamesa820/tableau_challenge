{
 "cells": [
  {
   "cell_type": "code",
   "execution_count": 1,
   "metadata": {},
   "outputs": [],
   "source": [
    "import pandas as pd\n",
    "import datetime as dt\n",
    "import os\n",
    "import glob\n",
    "\n",
    "os.chdir(\"../Homework/2019-citibike-tripdata\")\n"
   ]
  },
  {
   "cell_type": "code",
   "execution_count": null,
   "metadata": {},
   "outputs": [],
   "source": [
    "# selecting csv files in the current working directory\n",
    "extension = 'csv'\n",
    "all_filenames = [i for i in glob.glob('*.{}'.format(extension))]"
   ]
  },
  {
   "cell_type": "code",
   "execution_count": null,
   "metadata": {},
   "outputs": [],
   "source": [
    "#combine all files in the list\n",
    "combined_csv = pd.concat([pd.read_csv(f) for f in all_filenames ])\n",
    "#export to csv\n",
    "combined_csv.to_csv( \"combined_csv.csv\", index=False, encoding='utf-8-sig')"
   ]
  },
  {
   "cell_type": "code",
   "execution_count": null,
   "metadata": {},
   "outputs": [],
   "source": [
    "# create database from the combined csv file for Jan throuhgh June\n",
    "alt_citibike_df = pd.read_csv(\"combined_csv.csv\")"
   ]
  },
  {
   "cell_type": "code",
   "execution_count": null,
   "metadata": {},
   "outputs": [],
   "source": [
    "#convert times to datetime datatype\n",
    "alt_citibike_df['starttime'] = pd.to_datetime(alt_citibike_df['starttime'])\n",
    "alt_citibike_df['stoptime'] = pd.to_datetime(alt_citibike_df['stoptime'])"
   ]
  },
  {
   "cell_type": "code",
   "execution_count": null,
   "metadata": {},
   "outputs": [],
   "source": [
    "#convert gender into string type\n",
    "alt_citibike_df['gender'] = alt_citibike_df['gender'].astype(str)"
   ]
  },
  {
   "cell_type": "code",
   "execution_count": null,
   "metadata": {},
   "outputs": [],
   "source": [
    "#gender 0=unknown 1=male 2=female\n",
    "#Make gender column more readable\n",
    "alt_citibike_df[\"gender\"].replace({\"0\": \"Unknown\", \"1\": \"Male\",\"2\":\"Female\"}, inplace=True)\n",
    "alt_citibike_df.head()"
   ]
  },
  {
   "cell_type": "code",
   "execution_count": null,
   "metadata": {
    "scrolled": true
   },
   "outputs": [],
   "source": [
    "#create column which numbers rows to provide unique value for each row of data\n",
    "alt_citibike_df['transaction id'] = range(1, len(alt_citibike_df.index)+1)"
   ]
  },
  {
   "cell_type": "code",
   "execution_count": null,
   "metadata": {},
   "outputs": [],
   "source": [
    "#separated start time and date into separate columns\n",
    "alt_citibike_df['startdate'] = [d.date() for d in alt_citibike_df['starttime']]\n",
    "alt_citibike_df['starttime'] = [d.time() for d in alt_citibike_df['starttime']]"
   ]
  },
  {
   "cell_type": "code",
   "execution_count": null,
   "metadata": {},
   "outputs": [],
   "source": [
    "#separated stop time and date into separate columns\n",
    "alt_citibike_df['stopdate'] = [d.date() for d in alt_citibike_df['stoptime']]\n",
    "alt_citibike_df['stoptime'] = [d.time() for d in alt_citibike_df['stoptime']]"
   ]
  },
  {
   "cell_type": "code",
   "execution_count": null,
   "metadata": {},
   "outputs": [],
   "source": [
    "alt_citibike_df.dtypes"
   ]
  },
  {
   "cell_type": "code",
   "execution_count": null,
   "metadata": {},
   "outputs": [],
   "source": [
    "#convert cleaned data to csv\n",
    "alt_citibike_df.to_csv('alt_citibike.csv')"
   ]
  }
 ],
 "metadata": {
  "kernelspec": {
   "display_name": "Python 3",
   "language": "python",
   "name": "python3"
  },
  "language_info": {
   "codemirror_mode": {
    "name": "ipython",
    "version": 3
   },
   "file_extension": ".py",
   "mimetype": "text/x-python",
   "name": "python",
   "nbconvert_exporter": "python",
   "pygments_lexer": "ipython3",
   "version": "3.7.4"
  }
 },
 "nbformat": 4,
 "nbformat_minor": 2
}
